{
 "cells": [
  {
   "cell_type": "markdown",
   "id": "810d9f10-ec19-4b09-8f90-e983e460b319",
   "metadata": {},
   "source": [
    "<center>\n",
    "<img src=\"https://laelgelcpublic.s3.sa-east-1.amazonaws.com/lael_50_years_narrow_white.png.no_years.400px_96dpi.png\" width=\"300\" alt=\"LAEL 50 years logo\">\n",
    "<h3>APPLIED LINGUISTICS GRADUATE PROGRAMME (LAEL)</h3>\n",
    "</center>\n",
    "<hr>"
   ]
  },
  {
   "cell_type": "markdown",
   "id": "888c2c96-2fc3-4a1a-995b-c388036a2a15",
   "metadata": {},
   "source": [
    "# Corpus Linguistics - Study 1 - Mariana - Dataset preparation - Only Portuguese"
   ]
  },
  {
   "cell_type": "markdown",
   "id": "7a9c2af7-9fc1-4f51-a4f5-2ed915b93039",
   "metadata": {},
   "source": [
    "## Importing the required libraries"
   ]
  },
  {
   "cell_type": "code",
   "execution_count": 1,
   "id": "e6689499-d19d-4b0c-befd-f88926b7105d",
   "metadata": {},
   "outputs": [],
   "source": [
    "import pandas as pd"
   ]
  },
  {
   "cell_type": "markdown",
   "id": "9a79a002-c182-4021-9b77-99ad470582af",
   "metadata": {},
   "source": [
    "## Data wrangling"
   ]
  },
  {
   "cell_type": "markdown",
   "id": "876ef543-2df5-47d3-b2fe-0507b9183774",
   "metadata": {},
   "source": [
    "### Consolidating multiple JSONL files into one JSONL file - code snippets"
   ]
  },
  {
   "cell_type": "markdown",
   "id": "3d330044-0cea-4c13-88eb-99618e53e4bd",
   "metadata": {},
   "source": [
    "Note: You have to download and open this Jupyter Notebook on JupyterLab (provided as part of Anaconda Distribution) to visualise the procedure"
   ]
  },
  {
   "cell_type": "markdown",
   "id": "afd80043-aa4c-4174-9244-6c82fc03f80a",
   "metadata": {},
   "source": [
    "#### In an Amazon EC2 instance, create the working directories"
   ]
  },
  {
   "cell_type": "raw",
   "id": "340e4eae-d927-452f-8b87-acb23870cc8b",
   "metadata": {},
   "source": [
    "mkdir mari\n",
    "mkdir mariout\n",
    "cd mari"
   ]
  },
  {
   "cell_type": "markdown",
   "id": "bb50e7c1-45f5-48fd-8fa5-456e475c7182",
   "metadata": {},
   "source": [
    "#### Iterate this line of code from `2016_1` to `2016_12`"
   ]
  },
  {
   "cell_type": "raw",
   "id": "f62b4101-96ff-4ce9-83b8-887336612f66",
   "metadata": {},
   "source": [
    "aws s3 cp s3://gelcawsemr/2016_1/filtered_tweets.jsonl/ . --recursive && cat *.json > mari2016_1.jsonl && aws s3 cp mari2016_1.jsonl s3://laelgelcawsemrmariana/ && mv mari2016_1.jsonl ../mariout/ && rm *"
   ]
  },
  {
   "cell_type": "markdown",
   "id": "97a95c16-da8e-4be4-9d64-eee97131d968",
   "metadata": {},
   "source": [
    "#### Change to `mariout`"
   ]
  },
  {
   "cell_type": "raw",
   "id": "a8b5c891-4e02-456a-a998-43ef15b19400",
   "metadata": {},
   "source": [
    "cd ../mariout"
   ]
  },
  {
   "cell_type": "markdown",
   "id": "66e37aae-8cee-42ca-91ff-10f882fc45c6",
   "metadata": {},
   "source": [
    "### Importing the tweet raw data into a dataframe"
   ]
  },
  {
   "cell_type": "code",
   "execution_count": 2,
   "id": "8a762708-07e4-472d-b3e9-bb0cea14438c",
   "metadata": {},
   "outputs": [],
   "source": [
    "df_tweets_raw_data = pd.read_json('mari2016_1.jsonl', lines=True)"
   ]
  },
  {
   "cell_type": "markdown",
   "id": "bef91d85-7bf2-4c87-8f93-a33298c96b93",
   "metadata": {},
   "source": [
    "### Dropping unnecessary columns"
   ]
  },
  {
   "cell_type": "markdown",
   "id": "b11784db-465b-46e8-bb33-d06bcb1cfb37",
   "metadata": {},
   "source": [
    "### Keeping only the tweets in Portuguese"
   ]
  },
  {
   "cell_type": "code",
   "execution_count": 3,
   "id": "f6de7913-03e4-4225-8f1a-1588e28b7f98",
   "metadata": {},
   "outputs": [],
   "source": [
    "df_tweets_raw_data = df_tweets_raw_data[df_tweets_raw_data['lang'] == 'pt'].reset_index(drop=True)"
   ]
  },
  {
   "cell_type": "markdown",
   "id": "8d53ac4d-1f9f-4004-9ba6-26a7025f2cb9",
   "metadata": {},
   "source": [
    "### Creating the file `mari2016_pt.jsonl`"
   ]
  },
  {
   "cell_type": "code",
   "execution_count": 4,
   "id": "b36d7e86-60f5-4efc-a78e-97f9b31b56f5",
   "metadata": {},
   "outputs": [],
   "source": [
    "df_tweets_raw_data.to_json('mari2016_1_pt.jsonl', orient='records', lines=True)"
   ]
  },
  {
   "cell_type": "code",
   "execution_count": null,
   "id": "0e95caa5-00aa-4bc6-bbc1-4386daadd806",
   "metadata": {},
   "outputs": [],
   "source": []
  }
 ],
 "metadata": {
  "kernelspec": {
   "display_name": "Python 3 (ipykernel)",
   "language": "python",
   "name": "python3"
  },
  "language_info": {
   "codemirror_mode": {
    "name": "ipython",
    "version": 3
   },
   "file_extension": ".py",
   "mimetype": "text/x-python",
   "name": "python",
   "nbconvert_exporter": "python",
   "pygments_lexer": "ipython3",
   "version": "3.11.8"
  }
 },
 "nbformat": 4,
 "nbformat_minor": 5
}
