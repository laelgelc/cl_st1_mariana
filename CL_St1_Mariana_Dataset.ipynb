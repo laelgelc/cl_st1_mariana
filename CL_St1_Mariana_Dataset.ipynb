{
 "cells": [
  {
   "cell_type": "markdown",
   "id": "810d9f10-ec19-4b09-8f90-e983e460b319",
   "metadata": {
    "jp-MarkdownHeadingCollapsed": true
   },
   "source": [
    "<center>\n",
    "<img src=\"https://laelgelcpublic.s3.sa-east-1.amazonaws.com/lael_50_years_narrow_white.png.no_years.400px_96dpi.png\" width=\"300\" alt=\"LAEL 50 years logo\">\n",
    "<h3>APPLIED LINGUISTICS GRADUATE PROGRAMME (LAEL)</h3>\n",
    "</center>\n",
    "<hr>"
   ]
  },
  {
   "cell_type": "markdown",
   "id": "888c2c96-2fc3-4a1a-995b-c388036a2a15",
   "metadata": {},
   "source": [
    "# Corpus Linguistics - Study 1 - Mariana - Dataset preparation"
   ]
  },
  {
   "cell_type": "markdown",
   "id": "28897518-a858-4dc5-b510-49c9131da966",
   "metadata": {},
   "source": [
    "## Tweet Object documentation"
   ]
  },
  {
   "cell_type": "markdown",
   "id": "a6f58941-1578-42c0-8933-d8ebef369245",
   "metadata": {},
   "source": [
    "Please refer to [Tweet Object](https://developer.twitter.com/en/docs/twitter-api/v1/data-dictionary/object-model/tweet)"
   ]
  },
  {
   "cell_type": "markdown",
   "id": "7a9c2af7-9fc1-4f51-a4f5-2ed915b93039",
   "metadata": {},
   "source": [
    "## Importing the required libraries"
   ]
  },
  {
   "cell_type": "code",
   "execution_count": 1,
   "id": "e6689499-d19d-4b0c-befd-f88926b7105d",
   "metadata": {},
   "outputs": [],
   "source": [
    "import pandas as pd"
   ]
  },
  {
   "cell_type": "markdown",
   "id": "9a79a002-c182-4021-9b77-99ad470582af",
   "metadata": {},
   "source": [
    "## Data wrangling"
   ]
  },
  {
   "cell_type": "markdown",
   "id": "66e37aae-8cee-42ca-91ff-10f882fc45c6",
   "metadata": {},
   "source": [
    "### Importing the tweet raw data into a dataframe"
   ]
  },
  {
   "cell_type": "code",
   "execution_count": 2,
   "id": "8a762708-07e4-472d-b3e9-bb0cea14438c",
   "metadata": {},
   "outputs": [],
   "source": [
    "df_tweets_raw_data = pd.read_json('mari201901.jsonl', lines=True)"
   ]
  },
  {
   "cell_type": "code",
   "execution_count": 3,
   "id": "623ddacd-5a20-4d89-a48e-98849a0644e9",
   "metadata": {},
   "outputs": [
    {
     "data": {
      "text/html": [
       "<div>\n",
       "<style scoped>\n",
       "    .dataframe tbody tr th:only-of-type {\n",
       "        vertical-align: middle;\n",
       "    }\n",
       "\n",
       "    .dataframe tbody tr th {\n",
       "        vertical-align: top;\n",
       "    }\n",
       "\n",
       "    .dataframe thead th {\n",
       "        text-align: right;\n",
       "    }\n",
       "</style>\n",
       "<table border=\"1\" class=\"dataframe\">\n",
       "  <thead>\n",
       "    <tr style=\"text-align: right;\">\n",
       "      <th></th>\n",
       "      <th>created_at</th>\n",
       "      <th>entities</th>\n",
       "      <th>favorite_count</th>\n",
       "      <th>favorited</th>\n",
       "      <th>filter_level</th>\n",
       "      <th>id</th>\n",
       "      <th>id_str</th>\n",
       "      <th>is_quote_status</th>\n",
       "      <th>lang</th>\n",
       "      <th>quote_count</th>\n",
       "      <th>...</th>\n",
       "      <th>possibly_sensitive</th>\n",
       "      <th>in_reply_to_screen_name</th>\n",
       "      <th>in_reply_to_user_id</th>\n",
       "      <th>in_reply_to_user_id_str</th>\n",
       "      <th>in_reply_to_status_id</th>\n",
       "      <th>in_reply_to_status_id_str</th>\n",
       "      <th>coordinates</th>\n",
       "      <th>geo</th>\n",
       "      <th>place</th>\n",
       "      <th>withheld_in_countries</th>\n",
       "    </tr>\n",
       "  </thead>\n",
       "  <tbody>\n",
       "    <tr>\n",
       "      <th>0</th>\n",
       "      <td>2019-01-15 14:07:11+00:00</td>\n",
       "      <td>{'hashtags': [{'indices': [67, 77], 'text': 'V...</td>\n",
       "      <td>0</td>\n",
       "      <td>False</td>\n",
       "      <td>low</td>\n",
       "      <td>1085176574671048705</td>\n",
       "      <td>1085176574671048704</td>\n",
       "      <td>False</td>\n",
       "      <td>es</td>\n",
       "      <td>0</td>\n",
       "      <td>...</td>\n",
       "      <td>NaN</td>\n",
       "      <td>NaN</td>\n",
       "      <td>NaN</td>\n",
       "      <td>NaN</td>\n",
       "      <td>NaN</td>\n",
       "      <td>NaN</td>\n",
       "      <td>NaN</td>\n",
       "      <td>NaN</td>\n",
       "      <td>NaN</td>\n",
       "      <td>NaN</td>\n",
       "    </tr>\n",
       "    <tr>\n",
       "      <th>1</th>\n",
       "      <td>2019-01-15 14:07:11+00:00</td>\n",
       "      <td>{'hashtags': [{'indices': [67, 77], 'text': 'V...</td>\n",
       "      <td>0</td>\n",
       "      <td>False</td>\n",
       "      <td>low</td>\n",
       "      <td>1085176574671048705</td>\n",
       "      <td>1085176574671048704</td>\n",
       "      <td>False</td>\n",
       "      <td>es</td>\n",
       "      <td>0</td>\n",
       "      <td>...</td>\n",
       "      <td>NaN</td>\n",
       "      <td>NaN</td>\n",
       "      <td>NaN</td>\n",
       "      <td>NaN</td>\n",
       "      <td>NaN</td>\n",
       "      <td>NaN</td>\n",
       "      <td>NaN</td>\n",
       "      <td>NaN</td>\n",
       "      <td>NaN</td>\n",
       "      <td>NaN</td>\n",
       "    </tr>\n",
       "    <tr>\n",
       "      <th>2</th>\n",
       "      <td>2019-01-13 15:05:36+00:00</td>\n",
       "      <td>{'hashtags': [{'indices': [38, 48], 'text': 'V...</td>\n",
       "      <td>0</td>\n",
       "      <td>False</td>\n",
       "      <td>low</td>\n",
       "      <td>1084466499962707968</td>\n",
       "      <td>1084466499962707968</td>\n",
       "      <td>True</td>\n",
       "      <td>en</td>\n",
       "      <td>0</td>\n",
       "      <td>...</td>\n",
       "      <td>NaN</td>\n",
       "      <td>NaN</td>\n",
       "      <td>NaN</td>\n",
       "      <td>NaN</td>\n",
       "      <td>NaN</td>\n",
       "      <td>NaN</td>\n",
       "      <td>NaN</td>\n",
       "      <td>NaN</td>\n",
       "      <td>NaN</td>\n",
       "      <td>NaN</td>\n",
       "    </tr>\n",
       "    <tr>\n",
       "      <th>3</th>\n",
       "      <td>2019-01-13 15:05:36+00:00</td>\n",
       "      <td>{'hashtags': [{'indices': [38, 48], 'text': 'V...</td>\n",
       "      <td>0</td>\n",
       "      <td>False</td>\n",
       "      <td>low</td>\n",
       "      <td>1084466499962707968</td>\n",
       "      <td>1084466499962707968</td>\n",
       "      <td>True</td>\n",
       "      <td>en</td>\n",
       "      <td>0</td>\n",
       "      <td>...</td>\n",
       "      <td>NaN</td>\n",
       "      <td>NaN</td>\n",
       "      <td>NaN</td>\n",
       "      <td>NaN</td>\n",
       "      <td>NaN</td>\n",
       "      <td>NaN</td>\n",
       "      <td>NaN</td>\n",
       "      <td>NaN</td>\n",
       "      <td>NaN</td>\n",
       "      <td>NaN</td>\n",
       "    </tr>\n",
       "    <tr>\n",
       "      <th>4</th>\n",
       "      <td>2019-01-13 13:36:24+00:00</td>\n",
       "      <td>{'hashtags': [{'indices': [28, 38], 'text': 'V...</td>\n",
       "      <td>0</td>\n",
       "      <td>False</td>\n",
       "      <td>low</td>\n",
       "      <td>1084444052030976002</td>\n",
       "      <td>1084444052030976000</td>\n",
       "      <td>True</td>\n",
       "      <td>es</td>\n",
       "      <td>0</td>\n",
       "      <td>...</td>\n",
       "      <td>NaN</td>\n",
       "      <td>NaN</td>\n",
       "      <td>NaN</td>\n",
       "      <td>NaN</td>\n",
       "      <td>NaN</td>\n",
       "      <td>NaN</td>\n",
       "      <td>NaN</td>\n",
       "      <td>NaN</td>\n",
       "      <td>NaN</td>\n",
       "      <td>NaN</td>\n",
       "    </tr>\n",
       "  </tbody>\n",
       "</table>\n",
       "<p>5 rows × 36 columns</p>\n",
       "</div>"
      ],
      "text/plain": [
       "                 created_at  \\\n",
       "0 2019-01-15 14:07:11+00:00   \n",
       "1 2019-01-15 14:07:11+00:00   \n",
       "2 2019-01-13 15:05:36+00:00   \n",
       "3 2019-01-13 15:05:36+00:00   \n",
       "4 2019-01-13 13:36:24+00:00   \n",
       "\n",
       "                                            entities  favorite_count  \\\n",
       "0  {'hashtags': [{'indices': [67, 77], 'text': 'V...               0   \n",
       "1  {'hashtags': [{'indices': [67, 77], 'text': 'V...               0   \n",
       "2  {'hashtags': [{'indices': [38, 48], 'text': 'V...               0   \n",
       "3  {'hashtags': [{'indices': [38, 48], 'text': 'V...               0   \n",
       "4  {'hashtags': [{'indices': [28, 38], 'text': 'V...               0   \n",
       "\n",
       "   favorited filter_level                   id               id_str  \\\n",
       "0      False          low  1085176574671048705  1085176574671048704   \n",
       "1      False          low  1085176574671048705  1085176574671048704   \n",
       "2      False          low  1084466499962707968  1084466499962707968   \n",
       "3      False          low  1084466499962707968  1084466499962707968   \n",
       "4      False          low  1084444052030976002  1084444052030976000   \n",
       "\n",
       "   is_quote_status lang  quote_count  ...  possibly_sensitive  \\\n",
       "0            False   es            0  ...                 NaN   \n",
       "1            False   es            0  ...                 NaN   \n",
       "2             True   en            0  ...                 NaN   \n",
       "3             True   en            0  ...                 NaN   \n",
       "4             True   es            0  ...                 NaN   \n",
       "\n",
       "   in_reply_to_screen_name  in_reply_to_user_id in_reply_to_user_id_str  \\\n",
       "0                      NaN                  NaN                     NaN   \n",
       "1                      NaN                  NaN                     NaN   \n",
       "2                      NaN                  NaN                     NaN   \n",
       "3                      NaN                  NaN                     NaN   \n",
       "4                      NaN                  NaN                     NaN   \n",
       "\n",
       "  in_reply_to_status_id in_reply_to_status_id_str coordinates  geo place  \\\n",
       "0                   NaN                       NaN         NaN  NaN   NaN   \n",
       "1                   NaN                       NaN         NaN  NaN   NaN   \n",
       "2                   NaN                       NaN         NaN  NaN   NaN   \n",
       "3                   NaN                       NaN         NaN  NaN   NaN   \n",
       "4                   NaN                       NaN         NaN  NaN   NaN   \n",
       "\n",
       "  withheld_in_countries  \n",
       "0                   NaN  \n",
       "1                   NaN  \n",
       "2                   NaN  \n",
       "3                   NaN  \n",
       "4                   NaN  \n",
       "\n",
       "[5 rows x 36 columns]"
      ]
     },
     "execution_count": 3,
     "metadata": {},
     "output_type": "execute_result"
    }
   ],
   "source": [
    "df_tweets_raw_data.head(5)"
   ]
  },
  {
   "cell_type": "code",
   "execution_count": 4,
   "id": "8323b37f",
   "metadata": {},
   "outputs": [
    {
     "data": {
      "text/plain": [
       "(38831, 36)"
      ]
     },
     "execution_count": 4,
     "metadata": {},
     "output_type": "execute_result"
    }
   ],
   "source": [
    "df_tweets_raw_data.shape"
   ]
  },
  {
   "cell_type": "markdown",
   "id": "a7ef5290-f5bf-44ae-8f40-5d1274b8318a",
   "metadata": {},
   "source": [
    "### Checking if data types are consistent"
   ]
  },
  {
   "cell_type": "code",
   "execution_count": 5,
   "id": "6795c314-cc1f-4acd-86a1-a4eada8a9bcb",
   "metadata": {},
   "outputs": [
    {
     "data": {
      "text/plain": [
       "created_at                   datetime64[ns, UTC]\n",
       "entities                                  object\n",
       "favorite_count                             int64\n",
       "favorited                                   bool\n",
       "filter_level                              object\n",
       "id                                         int64\n",
       "id_str                                     int64\n",
       "is_quote_status                             bool\n",
       "lang                                      object\n",
       "quote_count                                int64\n",
       "reply_count                                int64\n",
       "retweet_count                              int64\n",
       "retweeted                                   bool\n",
       "retweeted_status                          object\n",
       "source                                    object\n",
       "text                                      object\n",
       "timestamp_ms                      datetime64[ns]\n",
       "truncated                                   bool\n",
       "user                                      object\n",
       "quoted_status                             object\n",
       "quoted_status_id                         float64\n",
       "quoted_status_id_str                     float64\n",
       "quoted_status_permalink                   object\n",
       "extended_tweet                            object\n",
       "display_text_range                        object\n",
       "extended_entities                         object\n",
       "possibly_sensitive                       float64\n",
       "in_reply_to_screen_name                   object\n",
       "in_reply_to_user_id                      float64\n",
       "in_reply_to_user_id_str                  float64\n",
       "in_reply_to_status_id                    float64\n",
       "in_reply_to_status_id_str                float64\n",
       "coordinates                               object\n",
       "geo                                       object\n",
       "place                                     object\n",
       "withheld_in_countries                     object\n",
       "dtype: object"
      ]
     },
     "execution_count": 5,
     "metadata": {},
     "output_type": "execute_result"
    }
   ],
   "source": [
    "df_tweets_raw_data.dtypes"
   ]
  },
  {
   "cell_type": "markdown",
   "id": "1a5f52ac-c869-45c0-885e-65ec0b04d4e9",
   "metadata": {},
   "source": [
    "#### Converting `id` column's data type to `str` for future use"
   ]
  },
  {
   "cell_type": "markdown",
   "id": "4ec0e3e9-4469-48cb-9649-66dfc302e824",
   "metadata": {},
   "source": [
    "Note: For some unknown reason, pandas has imported the attribute `id_str` incorrectly in some cases. Therefore, `id` is  being used instead."
   ]
  },
  {
   "cell_type": "code",
   "execution_count": 6,
   "id": "fbd7544b-6bce-4276-bde0-457e6c378d80",
   "metadata": {},
   "outputs": [],
   "source": [
    "df_tweets_raw_data['id'] = df_tweets_raw_data['id'].astype(str)"
   ]
  },
  {
   "cell_type": "markdown",
   "id": "bef91d85-7bf2-4c87-8f93-a33298c96b93",
   "metadata": {},
   "source": [
    "### Dropping unnecessary columns"
   ]
  },
  {
   "cell_type": "markdown",
   "id": "acc48aac-82dd-4dba-816c-b974573c85b1",
   "metadata": {},
   "source": [
    "#### Listing the columns"
   ]
  },
  {
   "cell_type": "code",
   "execution_count": 7,
   "id": "186bc7a0-eea6-431f-bb4b-2b108edb75db",
   "metadata": {},
   "outputs": [
    {
     "data": {
      "text/plain": [
       "['created_at',\n",
       " 'entities',\n",
       " 'favorite_count',\n",
       " 'favorited',\n",
       " 'filter_level',\n",
       " 'id',\n",
       " 'id_str',\n",
       " 'is_quote_status',\n",
       " 'lang',\n",
       " 'quote_count',\n",
       " 'reply_count',\n",
       " 'retweet_count',\n",
       " 'retweeted',\n",
       " 'retweeted_status',\n",
       " 'source',\n",
       " 'text',\n",
       " 'timestamp_ms',\n",
       " 'truncated',\n",
       " 'user',\n",
       " 'quoted_status',\n",
       " 'quoted_status_id',\n",
       " 'quoted_status_id_str',\n",
       " 'quoted_status_permalink',\n",
       " 'extended_tweet',\n",
       " 'display_text_range',\n",
       " 'extended_entities',\n",
       " 'possibly_sensitive',\n",
       " 'in_reply_to_screen_name',\n",
       " 'in_reply_to_user_id',\n",
       " 'in_reply_to_user_id_str',\n",
       " 'in_reply_to_status_id',\n",
       " 'in_reply_to_status_id_str',\n",
       " 'coordinates',\n",
       " 'geo',\n",
       " 'place',\n",
       " 'withheld_in_countries']"
      ]
     },
     "execution_count": 7,
     "metadata": {},
     "output_type": "execute_result"
    }
   ],
   "source": [
    "df_tweets_raw_data.columns.values.tolist()"
   ]
  },
  {
   "cell_type": "markdown",
   "id": "ade8b0e3-9f4f-46b6-8dfc-14d70d0a8ca3",
   "metadata": {},
   "source": [
    "#### Selecting the columns that are being dropped"
   ]
  },
  {
   "cell_type": "code",
   "execution_count": 8,
   "id": "2a8a666c-90b2-4acd-a7a0-4a9f85430f27",
   "metadata": {},
   "outputs": [],
   "source": [
    "df_tweets_raw_data = df_tweets_raw_data.drop(columns=[\n",
    "#    'created_at',\n",
    "    'entities',\n",
    "    'favorite_count',\n",
    "    'favorited',\n",
    "    'filter_level',\n",
    "#    'id',\n",
    "    'id_str',\n",
    "    'is_quote_status',\n",
    "#    'lang',\n",
    "    'quote_count',\n",
    "    'reply_count',\n",
    "    'retweet_count',\n",
    "    'retweeted',\n",
    "    'retweeted_status',\n",
    "    'source',\n",
    "#    'text',\n",
    "    'timestamp_ms',\n",
    "    'truncated',\n",
    "#    'user',\n",
    "    'quoted_status',\n",
    "    'quoted_status_id',\n",
    "    'quoted_status_id_str',\n",
    "    'quoted_status_permalink',\n",
    "    'extended_tweet',\n",
    "    'display_text_range',\n",
    "    'extended_entities',\n",
    "    'possibly_sensitive',\n",
    "    'in_reply_to_screen_name',\n",
    "    'in_reply_to_user_id',\n",
    "    'in_reply_to_user_id_str',\n",
    "    'in_reply_to_status_id',\n",
    "    'in_reply_to_status_id_str',\n",
    "    'coordinates',\n",
    "    'geo',\n",
    "    'place',\n",
    "    'withheld_in_countries'\n",
    "])"
   ]
  },
  {
   "cell_type": "code",
   "execution_count": 9,
   "id": "1b513ffa-0845-45c2-9176-a848171e5598",
   "metadata": {},
   "outputs": [
    {
     "data": {
      "text/plain": [
       "['created_at', 'id', 'lang', 'text', 'user']"
      ]
     },
     "execution_count": 9,
     "metadata": {},
     "output_type": "execute_result"
    }
   ],
   "source": [
    "df_tweets_raw_data.columns.values.tolist()"
   ]
  },
  {
   "cell_type": "markdown",
   "id": "26ff2a3f-1c43-4a31-b876-ff6de54714e6",
   "metadata": {},
   "source": [
    "### Listing the values of the parameter `lang`"
   ]
  },
  {
   "cell_type": "code",
   "execution_count": 10,
   "id": "3db8bc9e-271b-4702-851e-6d23aa3c5d33",
   "metadata": {},
   "outputs": [
    {
     "data": {
      "text/plain": [
       "array(['es', 'en', 'und', 'pt', 'ca', 'fr', 'eu', 'it', 'de', 'ar', 'ht',\n",
       "       'zh', 'fa', 'tr', 'sv', 'cy', 'ur', 'ro', 'in', 'uk', 'el', 'hi',\n",
       "       'nl', 'pl', 'ru', 'cs', 'tl', 'fi', 'no', 'lt', 'ja', 'et', 'sr',\n",
       "       'hu', 'da'], dtype=object)"
      ]
     },
     "execution_count": 10,
     "metadata": {},
     "output_type": "execute_result"
    }
   ],
   "source": [
    "df_tweets_raw_data['lang'].unique()"
   ]
  },
  {
   "cell_type": "markdown",
   "id": "b11784db-465b-46e8-bb33-d06bcb1cfb37",
   "metadata": {},
   "source": [
    "### Keeping only the tweets in Portuguese"
   ]
  },
  {
   "cell_type": "code",
   "execution_count": 11,
   "id": "f6de7913-03e4-4225-8f1a-1588e28b7f98",
   "metadata": {},
   "outputs": [],
   "source": [
    "df_tweets_raw_data = df_tweets_raw_data[df_tweets_raw_data['lang'] == 'pt'].reset_index(drop=True)"
   ]
  },
  {
   "cell_type": "markdown",
   "id": "406c9ba9-73ad-42a3-bfdb-f64cc36c96a9",
   "metadata": {},
   "source": [
    "### Extracting the column `username`"
   ]
  },
  {
   "cell_type": "code",
   "execution_count": 12,
   "id": "0079390d-6438-4d72-bf6e-0cf2278898ad",
   "metadata": {},
   "outputs": [],
   "source": [
    "# Flatten the nested JSON 'user' attribute\n",
    "df_tweets_raw_data_flattened_user = pd.json_normalize(df_tweets_raw_data['user'])\n",
    "\n",
    "# Extract the 'screen_name' attribute\n",
    "username = df_tweets_raw_data_flattened_user['screen_name']\n",
    "\n",
    "# Create a new column 'username'\n",
    "df_tweets_raw_data['username'] = username"
   ]
  },
  {
   "cell_type": "markdown",
   "id": "1224c888-1bd9-4c03-be3d-afb25f333bbb",
   "metadata": {},
   "source": [
    "### Extracting the column `author_id`"
   ]
  },
  {
   "cell_type": "code",
   "execution_count": 13,
   "id": "0b3b0049-4e58-4a80-96c6-199b851d0c1b",
   "metadata": {},
   "outputs": [],
   "source": [
    "# Extract the 'id_str' attribute\n",
    "author_id = df_tweets_raw_data_flattened_user['id_str']\n",
    "\n",
    "# Create a new column 'username'\n",
    "df_tweets_raw_data['author_id'] = author_id"
   ]
  },
  {
   "cell_type": "markdown",
   "id": "7a0e98ef-4398-4d56-8af8-35eb031d0155",
   "metadata": {},
   "source": [
    "### Extracting the column `tweet_url`"
   ]
  },
  {
   "cell_type": "code",
   "execution_count": 14,
   "id": "04d1211f-1cca-4e9c-8041-0d6579ab32a0",
   "metadata": {},
   "outputs": [],
   "source": [
    "# Construct the tweet URL using the tweet ID and user's screen name\n",
    "df_tweets_raw_data['tweet_url'] = (\n",
    "    'https://twitter.com/' + \n",
    "    df_tweets_raw_data['username'] + \n",
    "    '/status/' + \n",
    "    df_tweets_raw_data['id']\n",
    ")"
   ]
  },
  {
   "cell_type": "code",
   "execution_count": 15,
   "id": "b6037461-b4d4-461d-bbaf-a5c6d8f6ee1d",
   "metadata": {},
   "outputs": [
    {
     "data": {
      "text/html": [
       "<div>\n",
       "<style scoped>\n",
       "    .dataframe tbody tr th:only-of-type {\n",
       "        vertical-align: middle;\n",
       "    }\n",
       "\n",
       "    .dataframe tbody tr th {\n",
       "        vertical-align: top;\n",
       "    }\n",
       "\n",
       "    .dataframe thead th {\n",
       "        text-align: right;\n",
       "    }\n",
       "</style>\n",
       "<table border=\"1\" class=\"dataframe\">\n",
       "  <thead>\n",
       "    <tr style=\"text-align: right;\">\n",
       "      <th></th>\n",
       "      <th>created_at</th>\n",
       "      <th>id</th>\n",
       "      <th>lang</th>\n",
       "      <th>text</th>\n",
       "      <th>user</th>\n",
       "      <th>username</th>\n",
       "      <th>author_id</th>\n",
       "      <th>tweet_url</th>\n",
       "    </tr>\n",
       "  </thead>\n",
       "  <tbody>\n",
       "    <tr>\n",
       "      <th>0</th>\n",
       "      <td>2019-01-13 16:02:20+00:00</td>\n",
       "      <td>1084480777365139458</td>\n",
       "      <td>pt</td>\n",
       "      <td>RT @RenovaMidia: #URGENTE\\n\\nServiço de Inteli...</td>\n",
       "      <td>{'contributors_enabled': False, 'created_at': ...</td>\n",
       "      <td>TaconThiago</td>\n",
       "      <td>1057374436624609281</td>\n",
       "      <td>https://twitter.com/TaconThiago/status/1084480...</td>\n",
       "    </tr>\n",
       "    <tr>\n",
       "      <th>1</th>\n",
       "      <td>2019-01-13 16:02:20+00:00</td>\n",
       "      <td>1084480777365139458</td>\n",
       "      <td>pt</td>\n",
       "      <td>RT @RenovaMidia: #URGENTE\\n\\nServiço de Inteli...</td>\n",
       "      <td>{'contributors_enabled': False, 'created_at': ...</td>\n",
       "      <td>TaconThiago</td>\n",
       "      <td>1057374436624609281</td>\n",
       "      <td>https://twitter.com/TaconThiago/status/1084480...</td>\n",
       "    </tr>\n",
       "    <tr>\n",
       "      <th>2</th>\n",
       "      <td>2019-01-13 16:00:40+00:00</td>\n",
       "      <td>1084480357959901186</td>\n",
       "      <td>pt</td>\n",
       "      <td>RT @RenovaMidia: #URGENTE\\n\\nServiço de Inteli...</td>\n",
       "      <td>{'contributors_enabled': False, 'created_at': ...</td>\n",
       "      <td>Brunobr18373270</td>\n",
       "      <td>1076139993599541248</td>\n",
       "      <td>https://twitter.com/Brunobr18373270/status/108...</td>\n",
       "    </tr>\n",
       "    <tr>\n",
       "      <th>3</th>\n",
       "      <td>2019-01-13 16:00:40+00:00</td>\n",
       "      <td>1084480357959901186</td>\n",
       "      <td>pt</td>\n",
       "      <td>RT @RenovaMidia: #URGENTE\\n\\nServiço de Inteli...</td>\n",
       "      <td>{'contributors_enabled': False, 'created_at': ...</td>\n",
       "      <td>Brunobr18373270</td>\n",
       "      <td>1076139993599541248</td>\n",
       "      <td>https://twitter.com/Brunobr18373270/status/108...</td>\n",
       "    </tr>\n",
       "    <tr>\n",
       "      <th>4</th>\n",
       "      <td>2019-01-13 15:57:54+00:00</td>\n",
       "      <td>1084479661709631494</td>\n",
       "      <td>pt</td>\n",
       "      <td>RT @RenovaMidia: #URGENTE\\n\\nServiço de Inteli...</td>\n",
       "      <td>{'contributors_enabled': False, 'created_at': ...</td>\n",
       "      <td>Pedrodon17</td>\n",
       "      <td>1052964117181583361</td>\n",
       "      <td>https://twitter.com/Pedrodon17/status/10844796...</td>\n",
       "    </tr>\n",
       "    <tr>\n",
       "      <th>...</th>\n",
       "      <td>...</td>\n",
       "      <td>...</td>\n",
       "      <td>...</td>\n",
       "      <td>...</td>\n",
       "      <td>...</td>\n",
       "      <td>...</td>\n",
       "      <td>...</td>\n",
       "      <td>...</td>\n",
       "    </tr>\n",
       "    <tr>\n",
       "      <th>677</th>\n",
       "      <td>2019-01-24 07:38:52+00:00</td>\n",
       "      <td>1088340342347313152</td>\n",
       "      <td>pt</td>\n",
       "      <td>RT @EnioMainardi: Gleisi disse que #trump se m...</td>\n",
       "      <td>{'contributors_enabled': False, 'created_at': ...</td>\n",
       "      <td>Tioito1</td>\n",
       "      <td>982506039055716352</td>\n",
       "      <td>https://twitter.com/Tioito1/status/10883403423...</td>\n",
       "    </tr>\n",
       "    <tr>\n",
       "      <th>678</th>\n",
       "      <td>2019-01-24 07:49:09+00:00</td>\n",
       "      <td>1088342930245464065</td>\n",
       "      <td>pt</td>\n",
       "      <td>RT @PolitzOficial: #CONFIRMADO!\\n\\nGENERAL DE ...</td>\n",
       "      <td>{'contributors_enabled': False, 'created_at': ...</td>\n",
       "      <td>jonh__fox</td>\n",
       "      <td>896205547</td>\n",
       "      <td>https://twitter.com/jonh__fox/status/108834293...</td>\n",
       "    </tr>\n",
       "    <tr>\n",
       "      <th>679</th>\n",
       "      <td>2019-01-22 08:37:44+00:00</td>\n",
       "      <td>1087630380897832960</td>\n",
       "      <td>pt</td>\n",
       "      <td>RT @GaliciaAberta: Miranda reúnese cos preside...</td>\n",
       "      <td>{'contributors_enabled': False, 'created_at': ...</td>\n",
       "      <td>ppdegalicia</td>\n",
       "      <td>13494262</td>\n",
       "      <td>https://twitter.com/ppdegalicia/status/1087630...</td>\n",
       "    </tr>\n",
       "    <tr>\n",
       "      <th>680</th>\n",
       "      <td>2019-01-24 08:29:48+00:00</td>\n",
       "      <td>1088353160173928448</td>\n",
       "      <td>pt</td>\n",
       "      <td>RT @rogergzz: Amor para #Venezuela 💛💙❤️</td>\n",
       "      <td>{'contributors_enabled': False, 'created_at': ...</td>\n",
       "      <td>mavitrejo</td>\n",
       "      <td>980262593515356160</td>\n",
       "      <td>https://twitter.com/mavitrejo/status/108835316...</td>\n",
       "    </tr>\n",
       "    <tr>\n",
       "      <th>681</th>\n",
       "      <td>2019-01-23 06:42:12+00:00</td>\n",
       "      <td>1087963693873287175</td>\n",
       "      <td>pt</td>\n",
       "      <td>RT @MiraAcre: #23ECalleHastaQueSeVaya\\nEsse ho...</td>\n",
       "      <td>{'contributors_enabled': False, 'created_at': ...</td>\n",
       "      <td>Oliveira27M</td>\n",
       "      <td>2845897565</td>\n",
       "      <td>https://twitter.com/Oliveira27M/status/1087963...</td>\n",
       "    </tr>\n",
       "  </tbody>\n",
       "</table>\n",
       "<p>682 rows × 8 columns</p>\n",
       "</div>"
      ],
      "text/plain": [
       "                   created_at                   id lang  \\\n",
       "0   2019-01-13 16:02:20+00:00  1084480777365139458   pt   \n",
       "1   2019-01-13 16:02:20+00:00  1084480777365139458   pt   \n",
       "2   2019-01-13 16:00:40+00:00  1084480357959901186   pt   \n",
       "3   2019-01-13 16:00:40+00:00  1084480357959901186   pt   \n",
       "4   2019-01-13 15:57:54+00:00  1084479661709631494   pt   \n",
       "..                        ...                  ...  ...   \n",
       "677 2019-01-24 07:38:52+00:00  1088340342347313152   pt   \n",
       "678 2019-01-24 07:49:09+00:00  1088342930245464065   pt   \n",
       "679 2019-01-22 08:37:44+00:00  1087630380897832960   pt   \n",
       "680 2019-01-24 08:29:48+00:00  1088353160173928448   pt   \n",
       "681 2019-01-23 06:42:12+00:00  1087963693873287175   pt   \n",
       "\n",
       "                                                  text  \\\n",
       "0    RT @RenovaMidia: #URGENTE\\n\\nServiço de Inteli...   \n",
       "1    RT @RenovaMidia: #URGENTE\\n\\nServiço de Inteli...   \n",
       "2    RT @RenovaMidia: #URGENTE\\n\\nServiço de Inteli...   \n",
       "3    RT @RenovaMidia: #URGENTE\\n\\nServiço de Inteli...   \n",
       "4    RT @RenovaMidia: #URGENTE\\n\\nServiço de Inteli...   \n",
       "..                                                 ...   \n",
       "677  RT @EnioMainardi: Gleisi disse que #trump se m...   \n",
       "678  RT @PolitzOficial: #CONFIRMADO!\\n\\nGENERAL DE ...   \n",
       "679  RT @GaliciaAberta: Miranda reúnese cos preside...   \n",
       "680            RT @rogergzz: Amor para #Venezuela 💛💙❤️   \n",
       "681  RT @MiraAcre: #23ECalleHastaQueSeVaya\\nEsse ho...   \n",
       "\n",
       "                                                  user         username  \\\n",
       "0    {'contributors_enabled': False, 'created_at': ...      TaconThiago   \n",
       "1    {'contributors_enabled': False, 'created_at': ...      TaconThiago   \n",
       "2    {'contributors_enabled': False, 'created_at': ...  Brunobr18373270   \n",
       "3    {'contributors_enabled': False, 'created_at': ...  Brunobr18373270   \n",
       "4    {'contributors_enabled': False, 'created_at': ...       Pedrodon17   \n",
       "..                                                 ...              ...   \n",
       "677  {'contributors_enabled': False, 'created_at': ...          Tioito1   \n",
       "678  {'contributors_enabled': False, 'created_at': ...        jonh__fox   \n",
       "679  {'contributors_enabled': False, 'created_at': ...      ppdegalicia   \n",
       "680  {'contributors_enabled': False, 'created_at': ...        mavitrejo   \n",
       "681  {'contributors_enabled': False, 'created_at': ...      Oliveira27M   \n",
       "\n",
       "               author_id                                          tweet_url  \n",
       "0    1057374436624609281  https://twitter.com/TaconThiago/status/1084480...  \n",
       "1    1057374436624609281  https://twitter.com/TaconThiago/status/1084480...  \n",
       "2    1076139993599541248  https://twitter.com/Brunobr18373270/status/108...  \n",
       "3    1076139993599541248  https://twitter.com/Brunobr18373270/status/108...  \n",
       "4    1052964117181583361  https://twitter.com/Pedrodon17/status/10844796...  \n",
       "..                   ...                                                ...  \n",
       "677   982506039055716352  https://twitter.com/Tioito1/status/10883403423...  \n",
       "678            896205547  https://twitter.com/jonh__fox/status/108834293...  \n",
       "679             13494262  https://twitter.com/ppdegalicia/status/1087630...  \n",
       "680   980262593515356160  https://twitter.com/mavitrejo/status/108835316...  \n",
       "681           2845897565  https://twitter.com/Oliveira27M/status/1087963...  \n",
       "\n",
       "[682 rows x 8 columns]"
      ]
     },
     "execution_count": 15,
     "metadata": {},
     "output_type": "execute_result"
    }
   ],
   "source": [
    "df_tweets_raw_data"
   ]
  },
  {
   "cell_type": "markdown",
   "id": "6eeab83e-9443-4346-a0ac-9f8f2b77c299",
   "metadata": {},
   "source": [
    "### Inspecting the data"
   ]
  },
  {
   "cell_type": "code",
   "execution_count": 16,
   "id": "eaf8f810-5396-41cd-b6c2-56110362bea0",
   "metadata": {},
   "outputs": [
    {
     "name": "stdout",
     "output_type": "stream",
     "text": [
      "username:sillaemimbre\n",
      "text:RT @RenovaMidia: O grupo Rumbo Libertad espera que o presidente interino da #Venezuela, Juan Guaidó, \"ordene a captura de Nicolás Maduro e…\n",
      "tweet_url:https://twitter.com/sillaemimbre/status/1088577916118728704\n"
     ]
    }
   ],
   "source": [
    "inspected_row = 450\n",
    "print('username:' + df_tweets_raw_data.loc[inspected_row, 'username'])\n",
    "print('text:' + df_tweets_raw_data.loc[inspected_row, 'text'])\n",
    "print('tweet_url:' + df_tweets_raw_data.loc[inspected_row, 'tweet_url'])"
   ]
  },
  {
   "cell_type": "markdown",
   "id": "f4bed9b1-169e-4de4-8568-67ff729d5d10",
   "metadata": {},
   "source": [
    "### Creating the file `mari20192020.tsv`"
   ]
  },
  {
   "cell_type": "code",
   "execution_count": 17,
   "id": "bfccdfba-d8db-46a1-a67c-8cf24ac883f8",
   "metadata": {},
   "outputs": [],
   "source": [
    "df_tweets_raw_data[['created_at', 'author_id', 'username', 'tweet_url', 'text']].to_csv('mari20192020.tsv', sep='\\t', index=False, encoding='utf-8', lineterminator='\\n')"
   ]
  },
  {
   "cell_type": "code",
   "execution_count": null,
   "id": "bb169464-4f29-4513-b272-46f201deff17",
   "metadata": {},
   "outputs": [],
   "source": []
  }
 ],
 "metadata": {
  "kernelspec": {
   "display_name": "Python 3 (ipykernel)",
   "language": "python",
   "name": "python3"
  },
  "language_info": {
   "codemirror_mode": {
    "name": "ipython",
    "version": 3
   },
   "file_extension": ".py",
   "mimetype": "text/x-python",
   "name": "python",
   "nbconvert_exporter": "python",
   "pygments_lexer": "ipython3",
   "version": "3.11.8"
  }
 },
 "nbformat": 4,
 "nbformat_minor": 5
}
