{
 "cells": [
  {
   "cell_type": "markdown",
   "id": "810d9f10-ec19-4b09-8f90-e983e460b319",
   "metadata": {},
   "source": [
    "<center>\n",
    "<img src=\"https://laelgelcpublic.s3.sa-east-1.amazonaws.com/lael_50_years_narrow_white.png.no_years.400px_96dpi.png\" width=\"300\" alt=\"LAEL 50 years logo\">\n",
    "<h3>APPLIED LINGUISTICS GRADUATE PROGRAMME (LAEL)</h3>\n",
    "</center>\n",
    "<hr>"
   ]
  },
  {
   "cell_type": "markdown",
   "id": "888c2c96-2fc3-4a1a-995b-c388036a2a15",
   "metadata": {},
   "source": [
    "# Corpus Linguistics - Study 1 - Mariana - Dataset preparation"
   ]
  },
  {
   "cell_type": "markdown",
   "id": "28897518-a858-4dc5-b510-49c9131da966",
   "metadata": {},
   "source": [
    "## Tweet Object documentation"
   ]
  },
  {
   "cell_type": "markdown",
   "id": "a6f58941-1578-42c0-8933-d8ebef369245",
   "metadata": {},
   "source": [
    "Please refer to [Tweet Object](https://developer.twitter.com/en/docs/twitter-api/v1/data-dictionary/object-model/tweet)"
   ]
  },
  {
   "cell_type": "markdown",
   "id": "7a9c2af7-9fc1-4f51-a4f5-2ed915b93039",
   "metadata": {},
   "source": [
    "## Importing the required libraries"
   ]
  },
  {
   "cell_type": "code",
   "execution_count": 1,
   "id": "e6689499-d19d-4b0c-befd-f88926b7105d",
   "metadata": {},
   "outputs": [],
   "source": [
    "import re\n",
    "import pandas as pd"
   ]
  },
  {
   "cell_type": "markdown",
   "id": "73050066-64bd-42cb-ac9d-9840a07c8d7a",
   "metadata": {},
   "source": [
    "## Setting input and output filenames"
   ]
  },
  {
   "cell_type": "markdown",
   "id": "3328eee4-c0e2-4463-b06d-5a45a67e0835",
   "metadata": {},
   "source": [
    "Set the `input_filename` with the filename of the file to be processed."
   ]
  },
  {
   "cell_type": "code",
   "execution_count": 2,
   "id": "376b4b00-86c3-4778-8e57-e5ce47886e91",
   "metadata": {},
   "outputs": [],
   "source": [
    "input_filename = 'mari2016_1.jsonl'\n",
    "suffix = '_pt'\n",
    "\n",
    "def add_suffix(filename):\n",
    "    # Extract the base filename without the extension\n",
    "    base_filename = re.match(r'^([A-Za-z0-9-_,\\s]+)\\.[A-Za-z]{1,5}$', filename).group(1)\n",
    "    \n",
    "    # Append suffix to the base filename\n",
    "    new_filename = f'{base_filename}{suffix}'\n",
    "    \n",
    "    # Add the original file extension back\n",
    "    new_filename += re.search(r'\\.[A-Za-z]{1,5}$', filename).group()\n",
    "    \n",
    "    return new_filename\n",
    "\n",
    "output_filename = add_suffix(input_filename)"
   ]
  },
  {
   "cell_type": "markdown",
   "id": "9a79a002-c182-4021-9b77-99ad470582af",
   "metadata": {},
   "source": [
    "## Data wrangling"
   ]
  },
  {
   "cell_type": "markdown",
   "id": "876ef543-2df5-47d3-b2fe-0507b9183774",
   "metadata": {},
   "source": [
    "### Consolidating multiple JSONL files into one JSONL file"
   ]
  },
  {
   "cell_type": "markdown",
   "id": "3d330044-0cea-4c13-88eb-99618e53e4bd",
   "metadata": {},
   "source": [
    "Note: You have to download and open this Jupyter Notebook on JupyterLab (provided as part of Anaconda Distribution) to visualise the procedure"
   ]
  },
  {
   "cell_type": "raw",
   "id": "f62b4101-96ff-4ce9-83b8-887336612f66",
   "metadata": {},
   "source": [
    "eyamrog@Rog-ASUS:/mnt/c/Users/eyamr/Downloads$ mkdir cl_st1_mariana\n",
    "eyamrog@Rog-ASUS:/mnt/c/Users/eyamr/Downloads$ cd cl_st1_mariana\n",
    "<transfer the collection of '.jsonl' files to be consolidated from their origin to this directory>\n",
    "eyamrog@Rog-ASUS:/mnt/c/Users/eyamr/Downloads/cl_st1_mariana$ ll\n",
    "total 2218400\n",
    "drwxrwxrwx 1 eyamrog eyamrog       512 Jun 10 11:23 ./\n",
    "drwxrwxrwx 1 eyamrog eyamrog       512 Jun 10 11:23 ../\n",
    "-rwxrwxrwx 1 eyamrog eyamrog 254025044 Jun 10 11:18 mari201901.jsonl*\n",
    "-rwxrwxrwx 1 eyamrog eyamrog 350379160 Jun 10 11:18 mari201902.jsonl*\n",
    "-rwxrwxrwx 1 eyamrog eyamrog 224005263 Jun 10 07:30 mari201903.jsonl*\n",
    "-rwxrwxrwx 1 eyamrog eyamrog 178830819 Jun 10 11:19 mari201904.jsonl*\n",
    "-rwxrwxrwx 1 eyamrog eyamrog 170641496 Jun 10 11:19 mari201905.jsonl*\n",
    "-rwxrwxrwx 1 eyamrog eyamrog  83907289 Jun 10 11:19 mari201906.jsonl*\n",
    "-rwxrwxrwx 1 eyamrog eyamrog  84835498 Jun 10 11:19 mari201907.jsonl*\n",
    "-rwxrwxrwx 1 eyamrog eyamrog  71471720 Jun 10 11:19 mari201908.jsonl*\n",
    "-rwxrwxrwx 1 eyamrog eyamrog  57739369 Jun 10 11:19 mari201909.jsonl*\n",
    "-rwxrwxrwx 1 eyamrog eyamrog  34374019 Jun 10 11:20 mari201910.jsonl*\n",
    "-rwxrwxrwx 1 eyamrog eyamrog  56622649 Jun 10 11:20 mari201911.jsonl*\n",
    "-rwxrwxrwx 1 eyamrog eyamrog  46455917 Jun 10 11:20 mari201912.jsonl*\n",
    "-rwxrwxrwx 1 eyamrog eyamrog  73825443 Jun 10 11:20 mari202001.jsonl*\n",
    "-rwxrwxrwx 1 eyamrog eyamrog  32634125 Jun 10 11:20 mari202002.jsonl*\n",
    "-rwxrwxrwx 1 eyamrog eyamrog  85109891 Jun 10 11:20 mari202003.jsonl*\n",
    "-rwxrwxrwx 1 eyamrog eyamrog  76990256 Jun 10 11:20 mari202004.jsonl*\n",
    "-rwxrwxrwx 1 eyamrog eyamrog  72508169 Jun 10 11:20 mari202005.jsonl*\n",
    "-rwxrwxrwx 1 eyamrog eyamrog  49131530 Jun 10 11:21 mari202006.jsonl*\n",
    "-rwxrwxrwx 1 eyamrog eyamrog  42111196 Jun 10 11:21 mari202007.jsonl*\n",
    "-rwxrwxrwx 1 eyamrog eyamrog  49259330 Jun 10 11:21 mari202008.jsonl*\n",
    "-rwxrwxrwx 1 eyamrog eyamrog  52686676 Jun 10 11:21 mari202009.jsonl*\n",
    "-rwxrwxrwx 1 eyamrog eyamrog  42663279 Jun 10 11:21 mari202010.jsonl*\n",
    "-rwxrwxrwx 1 eyamrog eyamrog  39146776 Jun 10 11:21 mari202011.jsonl*\n",
    "-rwxrwxrwx 1 eyamrog eyamrog  42241215 Jun 10 11:21 mari202012.jsonl*\n",
    "eyamrog@Rog-ASUS:/mnt/c/Users/eyamr/Downloads/cl_st1_mariana$ find . -type f | wc -l\n",
    "24\n",
    "eyamrog@Rog-ASUS:/mnt/c/Users/eyamr/Downloads/cl_st1_mariana$ cat *.jsonl > mari20192020.jsonl\n",
    "eyamrog@Rog-ASUS:/mnt/c/Users/eyamr/Downloads/cl_st1_mariana$ ll\n",
    "total 4436756\n",
    "drwxrwxrwx 1 eyamrog eyamrog        512 Jun 10 12:15 ./\n",
    "drwxrwxrwx 1 eyamrog eyamrog        512 Jun 10 11:23 ../\n",
    "-rwxrwxrwx 1 eyamrog eyamrog  254025044 Jun 10 11:18 mari201901.jsonl*\n",
    "-rwxrwxrwx 1 eyamrog eyamrog  350379160 Jun 10 11:18 mari201902.jsonl*\n",
    "-rwxrwxrwx 1 eyamrog eyamrog  224005263 Jun 10 07:30 mari201903.jsonl*\n",
    "-rwxrwxrwx 1 eyamrog eyamrog  178830819 Jun 10 11:19 mari201904.jsonl*\n",
    "-rwxrwxrwx 1 eyamrog eyamrog  170641496 Jun 10 11:19 mari201905.jsonl*\n",
    "-rwxrwxrwx 1 eyamrog eyamrog   83907289 Jun 10 11:19 mari201906.jsonl*\n",
    "-rwxrwxrwx 1 eyamrog eyamrog   84835498 Jun 10 11:19 mari201907.jsonl*\n",
    "-rwxrwxrwx 1 eyamrog eyamrog   71471720 Jun 10 11:19 mari201908.jsonl*\n",
    "-rwxrwxrwx 1 eyamrog eyamrog   57739369 Jun 10 11:19 mari201909.jsonl*\n",
    "-rwxrwxrwx 1 eyamrog eyamrog   34374019 Jun 10 11:20 mari201910.jsonl*\n",
    "-rwxrwxrwx 1 eyamrog eyamrog   56622649 Jun 10 11:20 mari201911.jsonl*\n",
    "-rwxrwxrwx 1 eyamrog eyamrog   46455917 Jun 10 11:20 mari201912.jsonl*\n",
    "-rwxrwxrwx 1 eyamrog eyamrog 2271596129 Jun 10 12:16 mari20192020.jsonl*\n",
    "-rwxrwxrwx 1 eyamrog eyamrog   73825443 Jun 10 11:20 mari202001.jsonl*\n",
    "-rwxrwxrwx 1 eyamrog eyamrog   32634125 Jun 10 11:20 mari202002.jsonl*\n",
    "-rwxrwxrwx 1 eyamrog eyamrog   85109891 Jun 10 11:20 mari202003.jsonl*\n",
    "-rwxrwxrwx 1 eyamrog eyamrog   76990256 Jun 10 11:20 mari202004.jsonl*\n",
    "-rwxrwxrwx 1 eyamrog eyamrog   72508169 Jun 10 11:20 mari202005.jsonl*\n",
    "-rwxrwxrwx 1 eyamrog eyamrog   49131530 Jun 10 11:21 mari202006.jsonl*\n",
    "-rwxrwxrwx 1 eyamrog eyamrog   42111196 Jun 10 11:21 mari202007.jsonl*\n",
    "-rwxrwxrwx 1 eyamrog eyamrog   49259330 Jun 10 11:21 mari202008.jsonl*\n",
    "-rwxrwxrwx 1 eyamrog eyamrog   52686676 Jun 10 11:21 mari202009.jsonl*\n",
    "-rwxrwxrwx 1 eyamrog eyamrog   42663279 Jun 10 11:21 mari202010.jsonl*\n",
    "-rwxrwxrwx 1 eyamrog eyamrog   39146776 Jun 10 11:21 mari202011.jsonl*\n",
    "-rwxrwxrwx 1 eyamrog eyamrog   42241215 Jun 10 11:21 mari202012.jsonl*\n",
    "eyamrog@Rog-ASUS:/mnt/c/Users/eyamr/Downloads/cl_st1_mariana$"
   ]
  },
  {
   "cell_type": "markdown",
   "id": "66e37aae-8cee-42ca-91ff-10f882fc45c6",
   "metadata": {},
   "source": [
    "### Importing the tweet raw data into a dataframe"
   ]
  },
  {
   "cell_type": "code",
   "execution_count": 3,
   "id": "8a762708-07e4-472d-b3e9-bb0cea14438c",
   "metadata": {},
   "outputs": [],
   "source": [
    "df_tweets_raw_data = pd.read_json(input_filename, lines=True)"
   ]
  },
  {
   "cell_type": "code",
   "execution_count": 4,
   "id": "623ddacd-5a20-4d89-a48e-98849a0644e9",
   "metadata": {},
   "outputs": [
    {
     "data": {
      "text/html": [
       "<div>\n",
       "<style scoped>\n",
       "    .dataframe tbody tr th:only-of-type {\n",
       "        vertical-align: middle;\n",
       "    }\n",
       "\n",
       "    .dataframe tbody tr th {\n",
       "        vertical-align: top;\n",
       "    }\n",
       "\n",
       "    .dataframe thead th {\n",
       "        text-align: right;\n",
       "    }\n",
       "</style>\n",
       "<table border=\"1\" class=\"dataframe\">\n",
       "  <thead>\n",
       "    <tr style=\"text-align: right;\">\n",
       "      <th></th>\n",
       "      <th>created_at</th>\n",
       "      <th>entities</th>\n",
       "      <th>favorite_count</th>\n",
       "      <th>favorited</th>\n",
       "      <th>filter_level</th>\n",
       "      <th>id</th>\n",
       "      <th>id_str</th>\n",
       "      <th>is_quote_status</th>\n",
       "      <th>lang</th>\n",
       "      <th>possibly_sensitive</th>\n",
       "      <th>...</th>\n",
       "      <th>in_reply_to_user_id</th>\n",
       "      <th>in_reply_to_user_id_str</th>\n",
       "      <th>extended_entities</th>\n",
       "      <th>place</th>\n",
       "      <th>quoted_status</th>\n",
       "      <th>quoted_status_id</th>\n",
       "      <th>quoted_status_id_str</th>\n",
       "      <th>coordinates</th>\n",
       "      <th>geo</th>\n",
       "      <th>scopes</th>\n",
       "    </tr>\n",
       "  </thead>\n",
       "  <tbody>\n",
       "    <tr>\n",
       "      <th>0</th>\n",
       "      <td>2016-01-15 14:24:21+00:00</td>\n",
       "      <td>{'hashtags': [], 'symbols': [], 'urls': [{'dis...</td>\n",
       "      <td>0</td>\n",
       "      <td>False</td>\n",
       "      <td>low</td>\n",
       "      <td>688003794085351425</td>\n",
       "      <td>688003794085351424</td>\n",
       "      <td>True</td>\n",
       "      <td>es</td>\n",
       "      <td>0.0</td>\n",
       "      <td>...</td>\n",
       "      <td>NaN</td>\n",
       "      <td>NaN</td>\n",
       "      <td>NaN</td>\n",
       "      <td>NaN</td>\n",
       "      <td>NaN</td>\n",
       "      <td>NaN</td>\n",
       "      <td>NaN</td>\n",
       "      <td>NaN</td>\n",
       "      <td>NaN</td>\n",
       "      <td>NaN</td>\n",
       "    </tr>\n",
       "    <tr>\n",
       "      <th>1</th>\n",
       "      <td>2016-01-15 14:24:23+00:00</td>\n",
       "      <td>{'hashtags': [], 'symbols': [], 'urls': [], 'u...</td>\n",
       "      <td>0</td>\n",
       "      <td>False</td>\n",
       "      <td>low</td>\n",
       "      <td>688003802478297088</td>\n",
       "      <td>688003802478297088</td>\n",
       "      <td>False</td>\n",
       "      <td>pt</td>\n",
       "      <td>NaN</td>\n",
       "      <td>...</td>\n",
       "      <td>812509.0</td>\n",
       "      <td>812509.0</td>\n",
       "      <td>NaN</td>\n",
       "      <td>NaN</td>\n",
       "      <td>NaN</td>\n",
       "      <td>NaN</td>\n",
       "      <td>NaN</td>\n",
       "      <td>NaN</td>\n",
       "      <td>NaN</td>\n",
       "      <td>NaN</td>\n",
       "    </tr>\n",
       "    <tr>\n",
       "      <th>2</th>\n",
       "      <td>2016-01-15 14:24:52+00:00</td>\n",
       "      <td>{'hashtags': [{'indices': [62, 82], 'text': 'P...</td>\n",
       "      <td>0</td>\n",
       "      <td>False</td>\n",
       "      <td>low</td>\n",
       "      <td>688003924134068224</td>\n",
       "      <td>688003924134068224</td>\n",
       "      <td>False</td>\n",
       "      <td>es</td>\n",
       "      <td>0.0</td>\n",
       "      <td>...</td>\n",
       "      <td>NaN</td>\n",
       "      <td>NaN</td>\n",
       "      <td>{'media': [{'display_url': 'pic.twitter.com/c0...</td>\n",
       "      <td>NaN</td>\n",
       "      <td>NaN</td>\n",
       "      <td>NaN</td>\n",
       "      <td>NaN</td>\n",
       "      <td>NaN</td>\n",
       "      <td>NaN</td>\n",
       "      <td>NaN</td>\n",
       "    </tr>\n",
       "    <tr>\n",
       "      <th>3</th>\n",
       "      <td>2016-01-15 14:25:19+00:00</td>\n",
       "      <td>{'hashtags': [], 'symbols': [], 'urls': [], 'u...</td>\n",
       "      <td>0</td>\n",
       "      <td>False</td>\n",
       "      <td>low</td>\n",
       "      <td>688004037355155456</td>\n",
       "      <td>688004037355155456</td>\n",
       "      <td>False</td>\n",
       "      <td>pt</td>\n",
       "      <td>NaN</td>\n",
       "      <td>...</td>\n",
       "      <td>NaN</td>\n",
       "      <td>NaN</td>\n",
       "      <td>NaN</td>\n",
       "      <td>NaN</td>\n",
       "      <td>NaN</td>\n",
       "      <td>NaN</td>\n",
       "      <td>NaN</td>\n",
       "      <td>NaN</td>\n",
       "      <td>NaN</td>\n",
       "      <td>NaN</td>\n",
       "    </tr>\n",
       "    <tr>\n",
       "      <th>4</th>\n",
       "      <td>2016-01-15 14:25:25+00:00</td>\n",
       "      <td>{'hashtags': [], 'symbols': [], 'urls': [{'dis...</td>\n",
       "      <td>0</td>\n",
       "      <td>False</td>\n",
       "      <td>low</td>\n",
       "      <td>688004062537736192</td>\n",
       "      <td>688004062537736192</td>\n",
       "      <td>False</td>\n",
       "      <td>es</td>\n",
       "      <td>0.0</td>\n",
       "      <td>...</td>\n",
       "      <td>NaN</td>\n",
       "      <td>NaN</td>\n",
       "      <td>NaN</td>\n",
       "      <td>NaN</td>\n",
       "      <td>NaN</td>\n",
       "      <td>NaN</td>\n",
       "      <td>NaN</td>\n",
       "      <td>NaN</td>\n",
       "      <td>NaN</td>\n",
       "      <td>NaN</td>\n",
       "    </tr>\n",
       "  </tbody>\n",
       "</table>\n",
       "<p>5 rows × 31 columns</p>\n",
       "</div>"
      ],
      "text/plain": [
       "                 created_at  \\\n",
       "0 2016-01-15 14:24:21+00:00   \n",
       "1 2016-01-15 14:24:23+00:00   \n",
       "2 2016-01-15 14:24:52+00:00   \n",
       "3 2016-01-15 14:25:19+00:00   \n",
       "4 2016-01-15 14:25:25+00:00   \n",
       "\n",
       "                                            entities  favorite_count  \\\n",
       "0  {'hashtags': [], 'symbols': [], 'urls': [{'dis...               0   \n",
       "1  {'hashtags': [], 'symbols': [], 'urls': [], 'u...               0   \n",
       "2  {'hashtags': [{'indices': [62, 82], 'text': 'P...               0   \n",
       "3  {'hashtags': [], 'symbols': [], 'urls': [], 'u...               0   \n",
       "4  {'hashtags': [], 'symbols': [], 'urls': [{'dis...               0   \n",
       "\n",
       "   favorited filter_level                  id              id_str  \\\n",
       "0      False          low  688003794085351425  688003794085351424   \n",
       "1      False          low  688003802478297088  688003802478297088   \n",
       "2      False          low  688003924134068224  688003924134068224   \n",
       "3      False          low  688004037355155456  688004037355155456   \n",
       "4      False          low  688004062537736192  688004062537736192   \n",
       "\n",
       "   is_quote_status lang  possibly_sensitive  ...  in_reply_to_user_id  \\\n",
       "0             True   es                 0.0  ...                  NaN   \n",
       "1            False   pt                 NaN  ...             812509.0   \n",
       "2            False   es                 0.0  ...                  NaN   \n",
       "3            False   pt                 NaN  ...                  NaN   \n",
       "4            False   es                 0.0  ...                  NaN   \n",
       "\n",
       "   in_reply_to_user_id_str                                  extended_entities  \\\n",
       "0                      NaN                                                NaN   \n",
       "1                 812509.0                                                NaN   \n",
       "2                      NaN  {'media': [{'display_url': 'pic.twitter.com/c0...   \n",
       "3                      NaN                                                NaN   \n",
       "4                      NaN                                                NaN   \n",
       "\n",
       "  place quoted_status quoted_status_id  quoted_status_id_str coordinates  geo  \\\n",
       "0   NaN           NaN              NaN                   NaN         NaN  NaN   \n",
       "1   NaN           NaN              NaN                   NaN         NaN  NaN   \n",
       "2   NaN           NaN              NaN                   NaN         NaN  NaN   \n",
       "3   NaN           NaN              NaN                   NaN         NaN  NaN   \n",
       "4   NaN           NaN              NaN                   NaN         NaN  NaN   \n",
       "\n",
       "   scopes  \n",
       "0     NaN  \n",
       "1     NaN  \n",
       "2     NaN  \n",
       "3     NaN  \n",
       "4     NaN  \n",
       "\n",
       "[5 rows x 31 columns]"
      ]
     },
     "execution_count": 4,
     "metadata": {},
     "output_type": "execute_result"
    }
   ],
   "source": [
    "df_tweets_raw_data.head(5)"
   ]
  },
  {
   "cell_type": "code",
   "execution_count": 5,
   "id": "1651fe57",
   "metadata": {},
   "outputs": [
    {
     "data": {
      "text/plain": [
       "(235483, 31)"
      ]
     },
     "execution_count": 5,
     "metadata": {},
     "output_type": "execute_result"
    }
   ],
   "source": [
    "df_tweets_raw_data.shape"
   ]
  },
  {
   "cell_type": "markdown",
   "id": "a7ef5290-f5bf-44ae-8f40-5d1274b8318a",
   "metadata": {},
   "source": [
    "### Checking if data types are consistent"
   ]
  },
  {
   "cell_type": "code",
   "execution_count": 6,
   "id": "6795c314-cc1f-4acd-86a1-a4eada8a9bcb",
   "metadata": {},
   "outputs": [
    {
     "data": {
      "text/plain": [
       "created_at                   datetime64[ns, UTC]\n",
       "entities                                  object\n",
       "favorite_count                             int64\n",
       "favorited                                   bool\n",
       "filter_level                              object\n",
       "id                                         int64\n",
       "id_str                                     int64\n",
       "is_quote_status                             bool\n",
       "lang                                      object\n",
       "possibly_sensitive                       float64\n",
       "retweet_count                              int64\n",
       "retweeted                                   bool\n",
       "retweeted_status                          object\n",
       "source                                    object\n",
       "text                                      object\n",
       "timestamp_ms                      datetime64[ns]\n",
       "truncated                                   bool\n",
       "user                                      object\n",
       "in_reply_to_screen_name                   object\n",
       "in_reply_to_status_id                    float64\n",
       "in_reply_to_status_id_str                float64\n",
       "in_reply_to_user_id                      float64\n",
       "in_reply_to_user_id_str                  float64\n",
       "extended_entities                         object\n",
       "place                                     object\n",
       "quoted_status                             object\n",
       "quoted_status_id                         float64\n",
       "quoted_status_id_str                     float64\n",
       "coordinates                               object\n",
       "geo                                       object\n",
       "scopes                                    object\n",
       "dtype: object"
      ]
     },
     "execution_count": 6,
     "metadata": {},
     "output_type": "execute_result"
    }
   ],
   "source": [
    "df_tweets_raw_data.dtypes"
   ]
  },
  {
   "cell_type": "markdown",
   "id": "1a5f52ac-c869-45c0-885e-65ec0b04d4e9",
   "metadata": {},
   "source": [
    "#### Converting `id` column's data type to `str` for future use"
   ]
  },
  {
   "cell_type": "markdown",
   "id": "4ec0e3e9-4469-48cb-9649-66dfc302e824",
   "metadata": {},
   "source": [
    "Note: For some unknown reason, pandas has imported the attribute `id_str` incorrectly in some cases. Therefore, `id` is  being used instead."
   ]
  },
  {
   "cell_type": "code",
   "execution_count": 7,
   "id": "fbd7544b-6bce-4276-bde0-457e6c378d80",
   "metadata": {},
   "outputs": [],
   "source": [
    "df_tweets_raw_data['id'] = df_tweets_raw_data['id'].astype(str)"
   ]
  },
  {
   "cell_type": "markdown",
   "id": "bef91d85-7bf2-4c87-8f93-a33298c96b93",
   "metadata": {},
   "source": [
    "### Dropping unnecessary columns"
   ]
  },
  {
   "cell_type": "markdown",
   "id": "acc48aac-82dd-4dba-816c-b974573c85b1",
   "metadata": {},
   "source": [
    "#### Listing the columns"
   ]
  },
  {
   "cell_type": "code",
   "execution_count": 8,
   "id": "186bc7a0-eea6-431f-bb4b-2b108edb75db",
   "metadata": {},
   "outputs": [
    {
     "data": {
      "text/plain": [
       "['created_at',\n",
       " 'entities',\n",
       " 'favorite_count',\n",
       " 'favorited',\n",
       " 'filter_level',\n",
       " 'id',\n",
       " 'id_str',\n",
       " 'is_quote_status',\n",
       " 'lang',\n",
       " 'possibly_sensitive',\n",
       " 'retweet_count',\n",
       " 'retweeted',\n",
       " 'retweeted_status',\n",
       " 'source',\n",
       " 'text',\n",
       " 'timestamp_ms',\n",
       " 'truncated',\n",
       " 'user',\n",
       " 'in_reply_to_screen_name',\n",
       " 'in_reply_to_status_id',\n",
       " 'in_reply_to_status_id_str',\n",
       " 'in_reply_to_user_id',\n",
       " 'in_reply_to_user_id_str',\n",
       " 'extended_entities',\n",
       " 'place',\n",
       " 'quoted_status',\n",
       " 'quoted_status_id',\n",
       " 'quoted_status_id_str',\n",
       " 'coordinates',\n",
       " 'geo',\n",
       " 'scopes']"
      ]
     },
     "execution_count": 8,
     "metadata": {},
     "output_type": "execute_result"
    }
   ],
   "source": [
    "df_tweets_raw_data.columns.values.tolist()"
   ]
  },
  {
   "cell_type": "markdown",
   "id": "ade8b0e3-9f4f-46b6-8dfc-14d70d0a8ca3",
   "metadata": {},
   "source": [
    "#### Selecting the columns that are being dropped"
   ]
  },
  {
   "cell_type": "markdown",
   "id": "ba8ff517-9126-4241-80a0-833962ac90ce",
   "metadata": {},
   "source": [
    "1. Edit the previous list and comment 'created_at', 'id', 'lang', 'text' and 'user';\n",
    "2. Update the following command with the updated list before running it."
   ]
  },
  {
   "cell_type": "code",
   "execution_count": 9,
   "id": "2a8a666c-90b2-4acd-a7a0-4a9f85430f27",
   "metadata": {},
   "outputs": [],
   "source": [
    "df_tweets_raw_data = df_tweets_raw_data.drop(columns=[\n",
    "#    'created_at',\n",
    "    'entities',\n",
    "    'favorite_count',\n",
    "    'favorited',\n",
    "    'filter_level',\n",
    "#    'id',\n",
    "    'id_str',\n",
    "    'is_quote_status',\n",
    "#    'lang',\n",
    "    'possibly_sensitive',\n",
    "    'retweet_count',\n",
    "    'retweeted',\n",
    "    'retweeted_status',\n",
    "    'source',\n",
    "#    'text',\n",
    "    'timestamp_ms',\n",
    "    'truncated',\n",
    "#    'user',\n",
    "    'in_reply_to_screen_name',\n",
    "    'in_reply_to_status_id',\n",
    "    'in_reply_to_status_id_str',\n",
    "    'in_reply_to_user_id',\n",
    "    'in_reply_to_user_id_str',\n",
    "    'extended_entities',\n",
    "    'place',\n",
    "    'quoted_status',\n",
    "    'quoted_status_id',\n",
    "    'quoted_status_id_str',\n",
    "    'coordinates',\n",
    "    'geo',\n",
    "    'scopes'\n",
    "])"
   ]
  },
  {
   "cell_type": "code",
   "execution_count": 10,
   "id": "1b513ffa-0845-45c2-9176-a848171e5598",
   "metadata": {},
   "outputs": [
    {
     "data": {
      "text/plain": [
       "['created_at', 'id', 'lang', 'text', 'user']"
      ]
     },
     "execution_count": 10,
     "metadata": {},
     "output_type": "execute_result"
    }
   ],
   "source": [
    "df_tweets_raw_data.columns.values.tolist()"
   ]
  },
  {
   "cell_type": "markdown",
   "id": "26ff2a3f-1c43-4a31-b876-ff6de54714e6",
   "metadata": {},
   "source": [
    "### Listing the values of the parameter `lang`"
   ]
  },
  {
   "cell_type": "code",
   "execution_count": 11,
   "id": "3db8bc9e-271b-4702-851e-6d23aa3c5d33",
   "metadata": {},
   "outputs": [
    {
     "data": {
      "text/plain": [
       "array(['es', 'pt', 'en', 'tl', 'fr', 'und', 'it', 'in', 'nl', 'sv', 'ru',\n",
       "       'ja', 'de', 'ro', 'fi', 'no', 'hi', 'ht', 'lt', 'et', 'eu', 'pl',\n",
       "       'da', 'cy', 'cs', 'tr', 'ko', 'lv', 'is', 'hu', 'uk', 'sl', 'vi',\n",
       "       'ar', 'ur', 'el', 'th'], dtype=object)"
      ]
     },
     "execution_count": 11,
     "metadata": {},
     "output_type": "execute_result"
    }
   ],
   "source": [
    "df_tweets_raw_data['lang'].unique()"
   ]
  },
  {
   "cell_type": "markdown",
   "id": "b11784db-465b-46e8-bb33-d06bcb1cfb37",
   "metadata": {},
   "source": [
    "### Keeping only the tweets in Portuguese"
   ]
  },
  {
   "cell_type": "code",
   "execution_count": 12,
   "id": "f6de7913-03e4-4225-8f1a-1588e28b7f98",
   "metadata": {},
   "outputs": [],
   "source": [
    "df_tweets_raw_data = df_tweets_raw_data[df_tweets_raw_data['lang'] == 'pt'].reset_index(drop=True)"
   ]
  },
  {
   "cell_type": "markdown",
   "id": "406c9ba9-73ad-42a3-bfdb-f64cc36c96a9",
   "metadata": {},
   "source": [
    "### Extracting the column `username`"
   ]
  },
  {
   "cell_type": "code",
   "execution_count": 13,
   "id": "0079390d-6438-4d72-bf6e-0cf2278898ad",
   "metadata": {},
   "outputs": [],
   "source": [
    "# Flatten the nested JSON 'user' attribute\n",
    "df_tweets_raw_data_flattened_user = pd.json_normalize(df_tweets_raw_data['user'])\n",
    "\n",
    "# Extract the 'screen_name' attribute\n",
    "username = df_tweets_raw_data_flattened_user['screen_name']\n",
    "\n",
    "# Create a new column 'username'\n",
    "df_tweets_raw_data['username'] = username"
   ]
  },
  {
   "cell_type": "markdown",
   "id": "1224c888-1bd9-4c03-be3d-afb25f333bbb",
   "metadata": {},
   "source": [
    "### Extracting the column `author_id`"
   ]
  },
  {
   "cell_type": "code",
   "execution_count": 14,
   "id": "0b3b0049-4e58-4a80-96c6-199b851d0c1b",
   "metadata": {},
   "outputs": [],
   "source": [
    "# Extract the 'id_str' attribute\n",
    "author_id = df_tweets_raw_data_flattened_user['id_str']\n",
    "\n",
    "# Create a new column 'username'\n",
    "df_tweets_raw_data['author_id'] = author_id"
   ]
  },
  {
   "cell_type": "markdown",
   "id": "7a0e98ef-4398-4d56-8af8-35eb031d0155",
   "metadata": {},
   "source": [
    "### Extracting the column `tweet_url`"
   ]
  },
  {
   "cell_type": "code",
   "execution_count": 15,
   "id": "04d1211f-1cca-4e9c-8041-0d6579ab32a0",
   "metadata": {},
   "outputs": [],
   "source": [
    "# Construct the tweet URL using the tweet ID and user's screen name\n",
    "df_tweets_raw_data['tweet_url'] = (\n",
    "    'https://twitter.com/' + \n",
    "    df_tweets_raw_data['username'] + \n",
    "    '/status/' + \n",
    "    df_tweets_raw_data['id']\n",
    ")"
   ]
  },
  {
   "cell_type": "code",
   "execution_count": 16,
   "id": "b6037461-b4d4-461d-bbaf-a5c6d8f6ee1d",
   "metadata": {},
   "outputs": [
    {
     "data": {
      "text/html": [
       "<div>\n",
       "<style scoped>\n",
       "    .dataframe tbody tr th:only-of-type {\n",
       "        vertical-align: middle;\n",
       "    }\n",
       "\n",
       "    .dataframe tbody tr th {\n",
       "        vertical-align: top;\n",
       "    }\n",
       "\n",
       "    .dataframe thead th {\n",
       "        text-align: right;\n",
       "    }\n",
       "</style>\n",
       "<table border=\"1\" class=\"dataframe\">\n",
       "  <thead>\n",
       "    <tr style=\"text-align: right;\">\n",
       "      <th></th>\n",
       "      <th>created_at</th>\n",
       "      <th>id</th>\n",
       "      <th>lang</th>\n",
       "      <th>text</th>\n",
       "      <th>user</th>\n",
       "      <th>username</th>\n",
       "      <th>author_id</th>\n",
       "      <th>tweet_url</th>\n",
       "    </tr>\n",
       "  </thead>\n",
       "  <tbody>\n",
       "    <tr>\n",
       "      <th>0</th>\n",
       "      <td>2016-01-15 14:24:23+00:00</td>\n",
       "      <td>688003802478297088</td>\n",
       "      <td>pt</td>\n",
       "      <td>@mitcha é um problema na córnea. Deixa ela em ...</td>\n",
       "      <td>{'contributors_enabled': False, 'created_at': ...</td>\n",
       "      <td>mosana</td>\n",
       "      <td>26246548</td>\n",
       "      <td>https://twitter.com/mosana/status/688003802478...</td>\n",
       "    </tr>\n",
       "    <tr>\n",
       "      <th>1</th>\n",
       "      <td>2016-01-15 14:25:19+00:00</td>\n",
       "      <td>688004037355155456</td>\n",
       "      <td>pt</td>\n",
       "      <td>nunca desconte seus problemas em alguém isso s...</td>\n",
       "      <td>{'contributors_enabled': False, 'created_at': ...</td>\n",
       "      <td>jdbfuckzz</td>\n",
       "      <td>550458673</td>\n",
       "      <td>https://twitter.com/jdbfuckzz/status/688004037...</td>\n",
       "    </tr>\n",
       "    <tr>\n",
       "      <th>2</th>\n",
       "      <td>2016-01-15 14:25:40+00:00</td>\n",
       "      <td>688004125452288000</td>\n",
       "      <td>pt</td>\n",
       "      <td>RT @relatojovens: Teremos problemas, mas nunca...</td>\n",
       "      <td>{'contributors_enabled': False, 'created_at': ...</td>\n",
       "      <td>WorldOfJovens</td>\n",
       "      <td>474149903</td>\n",
       "      <td>https://twitter.com/WorldOfJovens/status/68800...</td>\n",
       "    </tr>\n",
       "    <tr>\n",
       "      <th>3</th>\n",
       "      <td>2016-01-15 14:26:09+00:00</td>\n",
       "      <td>688004247070334976</td>\n",
       "      <td>pt</td>\n",
       "      <td>Vocês já pararam pra pensar que muitas vezes a...</td>\n",
       "      <td>{'contributors_enabled': False, 'created_at': ...</td>\n",
       "      <td>thisismarcela_</td>\n",
       "      <td>785396354</td>\n",
       "      <td>https://twitter.com/thisismarcela_/status/6880...</td>\n",
       "    </tr>\n",
       "    <tr>\n",
       "      <th>4</th>\n",
       "      <td>2016-01-15 14:26:46+00:00</td>\n",
       "      <td>688004402259607554</td>\n",
       "      <td>pt</td>\n",
       "      <td>RT @proundmatt: o problema da dor e que ela pr...</td>\n",
       "      <td>{'contributors_enabled': False, 'created_at': ...</td>\n",
       "      <td>DaCat01</td>\n",
       "      <td>1713342241</td>\n",
       "      <td>https://twitter.com/DaCat01/status/68800440225...</td>\n",
       "    </tr>\n",
       "    <tr>\n",
       "      <th>...</th>\n",
       "      <td>...</td>\n",
       "      <td>...</td>\n",
       "      <td>...</td>\n",
       "      <td>...</td>\n",
       "      <td>...</td>\n",
       "      <td>...</td>\n",
       "      <td>...</td>\n",
       "      <td>...</td>\n",
       "    </tr>\n",
       "    <tr>\n",
       "      <th>50170</th>\n",
       "      <td>2016-01-15 20:33:09+00:00</td>\n",
       "      <td>688096605665275905</td>\n",
       "      <td>pt</td>\n",
       "      <td>Rússia e EUA conversam sobre Ucrânia na fronte...</td>\n",
       "      <td>{'contributors_enabled': False, 'created_at': ...</td>\n",
       "      <td>AtualNoticia</td>\n",
       "      <td>513533519</td>\n",
       "      <td>https://twitter.com/AtualNoticia/status/688096...</td>\n",
       "    </tr>\n",
       "    <tr>\n",
       "      <th>50171</th>\n",
       "      <td>2016-01-19 13:14:07+00:00</td>\n",
       "      <td>689435670750765057</td>\n",
       "      <td>pt</td>\n",
       "      <td>Eu sou do tipo q adora o perigo, q metade eh j...</td>\n",
       "      <td>{'contributors_enabled': False, 'created_at': ...</td>\n",
       "      <td>ingridchris123</td>\n",
       "      <td>3568450575</td>\n",
       "      <td>https://twitter.com/ingridchris123/status/6894...</td>\n",
       "    </tr>\n",
       "    <tr>\n",
       "      <th>50172</th>\n",
       "      <td>2016-01-28 12:45:01+00:00</td>\n",
       "      <td>692689838286442496</td>\n",
       "      <td>pt</td>\n",
       "      <td>RT @g1: Blocos tradicionais do Rio cancelam de...</td>\n",
       "      <td>{'contributors_enabled': False, 'created_at': ...</td>\n",
       "      <td>BiaRosenburg</td>\n",
       "      <td>41925915</td>\n",
       "      <td>https://twitter.com/BiaRosenburg/status/692689...</td>\n",
       "    </tr>\n",
       "    <tr>\n",
       "      <th>50173</th>\n",
       "      <td>2016-01-19 13:08:36+00:00</td>\n",
       "      <td>689434282444521472</td>\n",
       "      <td>pt</td>\n",
       "      <td>Twitter deu problema ? É isso minha gente..?</td>\n",
       "      <td>{'contributors_enabled': False, 'created_at': ...</td>\n",
       "      <td>ooi_pri</td>\n",
       "      <td>269960285</td>\n",
       "      <td>https://twitter.com/ooi_pri/status/68943428244...</td>\n",
       "    </tr>\n",
       "    <tr>\n",
       "      <th>50174</th>\n",
       "      <td>2016-01-20 20:27:05+00:00</td>\n",
       "      <td>689907018275131396</td>\n",
       "      <td>pt</td>\n",
       "      <td>@naogabriela gente que romantiza ou acha legal...</td>\n",
       "      <td>{'contributors_enabled': False, 'created_at': ...</td>\n",
       "      <td>XcoexistarX</td>\n",
       "      <td>467681161</td>\n",
       "      <td>https://twitter.com/XcoexistarX/status/6899070...</td>\n",
       "    </tr>\n",
       "  </tbody>\n",
       "</table>\n",
       "<p>50175 rows × 8 columns</p>\n",
       "</div>"
      ],
      "text/plain": [
       "                     created_at                  id lang  \\\n",
       "0     2016-01-15 14:24:23+00:00  688003802478297088   pt   \n",
       "1     2016-01-15 14:25:19+00:00  688004037355155456   pt   \n",
       "2     2016-01-15 14:25:40+00:00  688004125452288000   pt   \n",
       "3     2016-01-15 14:26:09+00:00  688004247070334976   pt   \n",
       "4     2016-01-15 14:26:46+00:00  688004402259607554   pt   \n",
       "...                         ...                 ...  ...   \n",
       "50170 2016-01-15 20:33:09+00:00  688096605665275905   pt   \n",
       "50171 2016-01-19 13:14:07+00:00  689435670750765057   pt   \n",
       "50172 2016-01-28 12:45:01+00:00  692689838286442496   pt   \n",
       "50173 2016-01-19 13:08:36+00:00  689434282444521472   pt   \n",
       "50174 2016-01-20 20:27:05+00:00  689907018275131396   pt   \n",
       "\n",
       "                                                    text  \\\n",
       "0      @mitcha é um problema na córnea. Deixa ela em ...   \n",
       "1      nunca desconte seus problemas em alguém isso s...   \n",
       "2      RT @relatojovens: Teremos problemas, mas nunca...   \n",
       "3      Vocês já pararam pra pensar que muitas vezes a...   \n",
       "4      RT @proundmatt: o problema da dor e que ela pr...   \n",
       "...                                                  ...   \n",
       "50170  Rússia e EUA conversam sobre Ucrânia na fronte...   \n",
       "50171  Eu sou do tipo q adora o perigo, q metade eh j...   \n",
       "50172  RT @g1: Blocos tradicionais do Rio cancelam de...   \n",
       "50173       Twitter deu problema ? É isso minha gente..?   \n",
       "50174  @naogabriela gente que romantiza ou acha legal...   \n",
       "\n",
       "                                                    user        username  \\\n",
       "0      {'contributors_enabled': False, 'created_at': ...          mosana   \n",
       "1      {'contributors_enabled': False, 'created_at': ...       jdbfuckzz   \n",
       "2      {'contributors_enabled': False, 'created_at': ...   WorldOfJovens   \n",
       "3      {'contributors_enabled': False, 'created_at': ...  thisismarcela_   \n",
       "4      {'contributors_enabled': False, 'created_at': ...         DaCat01   \n",
       "...                                                  ...             ...   \n",
       "50170  {'contributors_enabled': False, 'created_at': ...    AtualNoticia   \n",
       "50171  {'contributors_enabled': False, 'created_at': ...  ingridchris123   \n",
       "50172  {'contributors_enabled': False, 'created_at': ...    BiaRosenburg   \n",
       "50173  {'contributors_enabled': False, 'created_at': ...         ooi_pri   \n",
       "50174  {'contributors_enabled': False, 'created_at': ...     XcoexistarX   \n",
       "\n",
       "        author_id                                          tweet_url  \n",
       "0        26246548  https://twitter.com/mosana/status/688003802478...  \n",
       "1       550458673  https://twitter.com/jdbfuckzz/status/688004037...  \n",
       "2       474149903  https://twitter.com/WorldOfJovens/status/68800...  \n",
       "3       785396354  https://twitter.com/thisismarcela_/status/6880...  \n",
       "4      1713342241  https://twitter.com/DaCat01/status/68800440225...  \n",
       "...           ...                                                ...  \n",
       "50170   513533519  https://twitter.com/AtualNoticia/status/688096...  \n",
       "50171  3568450575  https://twitter.com/ingridchris123/status/6894...  \n",
       "50172    41925915  https://twitter.com/BiaRosenburg/status/692689...  \n",
       "50173   269960285  https://twitter.com/ooi_pri/status/68943428244...  \n",
       "50174   467681161  https://twitter.com/XcoexistarX/status/6899070...  \n",
       "\n",
       "[50175 rows x 8 columns]"
      ]
     },
     "execution_count": 16,
     "metadata": {},
     "output_type": "execute_result"
    }
   ],
   "source": [
    "df_tweets_raw_data"
   ]
  },
  {
   "cell_type": "markdown",
   "id": "6eeab83e-9443-4346-a0ac-9f8f2b77c299",
   "metadata": {},
   "source": [
    "### Inspecting the data"
   ]
  },
  {
   "cell_type": "code",
   "execution_count": 17,
   "id": "eaf8f810-5396-41cd-b6c2-56110362bea0",
   "metadata": {},
   "outputs": [
    {
     "name": "stdout",
     "output_type": "stream",
     "text": [
      "username:rodrigomanzatto\n",
      "text:Só me arruma problema ele kkkkkkk\n",
      "tweet_url:https://twitter.com/rodrigomanzatto/status/687648075184226309\n"
     ]
    }
   ],
   "source": [
    "inspected_row = 160\n",
    "print('username:' + df_tweets_raw_data.loc[inspected_row, 'username'])\n",
    "print('text:' + df_tweets_raw_data.loc[inspected_row, 'text'])\n",
    "print('tweet_url:' + df_tweets_raw_data.loc[inspected_row, 'tweet_url'])"
   ]
  },
  {
   "cell_type": "markdown",
   "id": "8d53ac4d-1f9f-4004-9ba6-26a7025f2cb9",
   "metadata": {},
   "source": [
    "### Creating the output file"
   ]
  },
  {
   "cell_type": "code",
   "execution_count": 18,
   "id": "b36d7e86-60f5-4efc-a78e-97f9b31b56f5",
   "metadata": {},
   "outputs": [],
   "source": [
    "df_tweets_raw_data[['created_at', 'author_id', 'username', 'tweet_url', 'text']].to_json(output_filename, orient='records', lines=True)"
   ]
  },
  {
   "cell_type": "markdown",
   "id": "f4bed9b1-169e-4de4-8568-67ff729d5d10",
   "metadata": {},
   "source": [
    "### Creating the `.tsv` output file (deprecated)"
   ]
  },
  {
   "cell_type": "code",
   "execution_count": null,
   "id": "bfccdfba-d8db-46a1-a67c-8cf24ac883f8",
   "metadata": {},
   "outputs": [],
   "source": [
    "#df_tweets_raw_data[['created_at', 'author_id', 'username', 'tweet_url', 'text']].to_csv('mari20192020.tsv', sep='\\t', index=False, encoding='utf-8', lineterminator='\\n')"
   ]
  },
  {
   "cell_type": "code",
   "execution_count": null,
   "id": "0e95caa5-00aa-4bc6-bbc1-4386daadd806",
   "metadata": {},
   "outputs": [],
   "source": []
  }
 ],
 "metadata": {
  "kernelspec": {
   "display_name": "Python 3 (ipykernel)",
   "language": "python",
   "name": "python3"
  },
  "language_info": {
   "codemirror_mode": {
    "name": "ipython",
    "version": 3
   },
   "file_extension": ".py",
   "mimetype": "text/x-python",
   "name": "python",
   "nbconvert_exporter": "python",
   "pygments_lexer": "ipython3",
   "version": "3.11.8"
  }
 },
 "nbformat": 4,
 "nbformat_minor": 5
}
